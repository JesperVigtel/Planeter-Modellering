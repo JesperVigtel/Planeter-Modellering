{
 "cells": [
  {
   "cell_type": "markdown",
   "metadata": {},
   "source": [
    "## Dette er modellen vår :) \n"
   ]
  },
  {
   "cell_type": "code",
   "execution_count": 2,
   "metadata": {},
   "outputs": [
    {
     "name": "stdout",
     "output_type": "stream",
     "text": [
      "Fungerer dette?\n",
      "Ja\n"
     ]
    }
   ],
   "source": [
    "from pylab import *\n",
    "\n",
    "\n",
    "print(\"Fungerer dette?\")\n",
    "print(\"Ja\")"
   ]
  },
  {
   "cell_type": "markdown",
   "metadata": {},
   "source": [
    "### Oppgave 8.22(Fysikk – Prosjekt)\n",
    "Solsystemet har lenge vært til fascinasjon ogundring for mennesker. Selv i et så stort system som solsystemet kan en simulereplanetenes baner med god tilnærming ved å kun bruke Newtons lover!Hvis vi ser på kraften som virker mellom to planeter, en med massem1og énmed massem2, kan vi bruke Newtonsuniverselle gravitasjonslov2til å finnekreftenesom virker på dem. Vi kan anta at planetene beveger seg i to dimensjoner, det vilsi langsx- ogy-aksen3. Kraften som virker på en planet med massem1langsx- ogy-aksen,FxogFy, blir påvirka av en planet med massem2. Kreftene langsx- ogy-aksen kan uttrykkes ved:Fx=−G·m1·m2·x(t)r3=−G·m1·m2·x(t)((x(t)−x2(t))2+(y(t)−y2(t))2)32Fy=−G·m1·m2·y(t)r3=−G·m1·m2·y(t)((x(t)−x2(t))2+(y(t)−y2(t))2)32derGer gravitasjonskonstanten,rer avstanden mellom planetene ogx(t)ogy(t)er posisjonen til planeten med massem1langs henholdsvisx- ogy-aksen etter eitidt. Vi har også atx2(t)ogy2(t)er posisjonen til planeten med massem2langshenholdsvisx- ogy-aksen etter ei tidt.a)Vis at akselerasjonenax(t)ogay(t)til en planet med massem1langs henholds-visx- ogy-aksen er:ax(t) =−G·m2·x(t)r3ay(t) =−G·m2·y(t)r32Loven forteller oss at for to legemer med massem1ogm2som kan ansees å ha perfekt kuleform,så er kraften mellom demF=Gm1m2r23Hvis du vil ha en mer realistisk simulering ved å inkludere en tredje dimensjon, dvs.z-aksen, erdet mulig å utvide modellen med å gjøre akkurat det samme forz-aksen som modellen har gjort forx-ogy-aksen.\n",
    "8.6  Oppgaver179b)Forklar hvorfor vi får at disse likningene må løses for å finne posisjonenex(t)ogy(t):x′(t) =vx(t)y′(t) =vy(t)v′x(t) =−G·m2·x(t)r3v′y(t) =−G·m2·y(t)r3dervx(t)ogvy(t)er farten til planeten med massem1.Nå skal vi se på et solsystem som består av kun jorda og sola. Modellen antar at solastår stille. Du kan derfor fokusere på hvordan jordas bane blir påvirket av sola.I denne modellen lar vi jordas massem1=3·10−6solmasser og solas massem2=1solmasse4. Ved å bruke AU (enhet brukt som den gjennomsnittlige avstandenmellom sol og jord) og år som enheter i vår modell, kan en finne atG=4π2.La startbetingelsene til jorda værex(0) =1,y(0) =0,vx(0) =0ogvy(0) =2π.Sola kan stå i origo. Det betyr at i dette tilfellet vilx2(t) =0ogy2(t) =0for alletidert.c)Skriv et program som først bruker Eulers metode til å finne jordas bane rundtsola for ett år ved å brukeN=1000 tidssteg. La programmet plotte banen.d)Skriv om programmet fra deloppgave d) slik at det bruker Euler-Cromer iste-den med samme verdi forN. Hvordan er plottet nå, sammenlikna med plottetfra deloppgave d)?Men vi kan jo ikke ha bare én planet i solsystemet vårt! Nå skal vi se på hvordansimuleringakan være dersom vi har med flere planeter i solsystemet. Merk atx2(t)ogy2(t)nå vil være avhengig av hvilken planet vi ser på. Du kan fortsatt anta at solastår stille.e)Skriv et program som modellerer planetenes bane forPplaneter. Du kangjerne brukeplanetermalstruktur.pysom forslag til programstruktur iprogrammetditt, men du kan også utvide programmet ditt fra e). Hvis duskriver om programmet ditt fra e), er det viktig at det greier å lese en datafilmed info over planetenes startposisjon, startfart og masse.Forslaget til programstrukturen henter ut eksempeldata fra ei fil som heter4Solmasser er en enhet som forteller stor en planet er i forhold til sola\n",
    "180Kapittel 8. Differensiallikningerplaneter_data.dat5. Datafila er strukturert slik at første tall forteller hvormange planeter som er med i fila. De resterende linjene er strukturert påfølgende måte:navn           startpos.-x           startpos.-y           startfart-x           startfart-y           masseSola er ikke tatt med, da simuleringa antar at den står i origo og ikke bevegerseg.Kommentar til struktur:Vi har ikke jobba så mye med matrisestrukturer.Tankegangen bak strukturen tilposogfartiplanetermalstruktur.pykan illustreres slik:Planet 2Planet 1Planet 0xyNtidssteg2 elementerPplaneterFigur 8.9: Illustrasjon over tankegangen bakpos, som er helt den samme forfart.Her kan en tenke at vi lagrer informasjonen over planetene i et arkiv. Detj-te “arket”med informasjon til denj-te planeten hentes ut vedpos[:,:,j]. Skal vi se hvordenj-te planeten befinner seg langs bådex- ogy-aksen ved et tidsstegi, brukervipos[i,:,j]. Skal vi for eksempel bare se påx-verdien til denj-te planeten vedtidsstegi, bruker vipos[i,0,j], og1istedenfor0dersom vi skal se påy-verdien.Du kan sjekke om simuleringa di gir følgende planetbaner etter ett år ved åbruke informasjonen fraplaneter_data.dat:5Tallene   er   henta   fra   NASA   og   har   blitt   noe   modifisert.   Du   kan   finne   sida   her:   htt-ps://ssd.jpl.nasa.gov/horizons.cgi\n",
    "8.6  Oppgaver1811.51.00.50.00.51.01.5x1.00.50.00.51.01.5yPlanetbanerFigur 8.10: Planetbaner til planetene fraplaneter_data.datetter ett år. Den guleprikken i sentrum representerer sola.f)Det er sannelig på tide å gjøre noe kult ut av det harde arbeidet fra deloppgavef)! Brukpygametil å visualisere planetenes bane rundt sola. Du får et forslagtil hvordan programstrukturen kan være, men utvid gjerne med mer om du harlyst. Her er det kun fantasien som setter grenser! Et forslag til programstrukturhar filnavnetplanetermalpygame.py."
   ]
  },
  {
   "source": [
    "fungerer dette"
   ],
   "cell_type": "markdown",
   "metadata": {}
  },
  {
   "cell_type": "code",
   "execution_count": null,
   "metadata": {},
   "outputs": [],
   "source": []
  }
 ],
 "metadata": {
  "kernelspec": {
   "name": "python383jvsc74a57bd0344443636c3027c5042750c9c609acdda283a9c43681b128a8c1053e7ad2aa7d",
   "display_name": "Python 3.8.3 64-bit ('base': conda)"
  },
  "language_info": {
   "codemirror_mode": {
    "name": "ipython",
    "version": 3
   },
   "file_extension": ".py",
   "mimetype": "text/x-python",
   "name": "python",
   "nbconvert_exporter": "python",
   "pygments_lexer": "ipython3",
   "version": "3.8.3-final"
  }
 },
 "nbformat": 4,
 "nbformat_minor": 2
}